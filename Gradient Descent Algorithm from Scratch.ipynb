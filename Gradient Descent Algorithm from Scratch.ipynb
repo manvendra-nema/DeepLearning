{
  "nbformat": 4,
  "nbformat_minor": 0,
  "metadata": {
    "colab": {
      "provenance": []
    },
    "kernelspec": {
      "name": "python3",
      "display_name": "Python 3"
    },
    "language_info": {
      "name": "python"
    }
  },
  "cells": [
    {
      "cell_type": "code",
      "execution_count": 8,
      "metadata": {
        "id": "2N3sTkBih7C3"
      },
      "outputs": [],
      "source": [
        "import numpy as np\n",
        "import matplotlib.pyplot as plt\n",
        "import seaborn as sns\n",
        "import random as rnd"
      ]
    },
    {
      "cell_type": "markdown",
      "source": [
        "#A"
      ],
      "metadata": {
        "id": "osBLaVKdCWXz"
      }
    },
    {
      "cell_type": "code",
      "source": [
        "def evaluate(param,y=1):\n",
        "  '''\n",
        "    evalute function on given points\n",
        "  '''\n",
        "  x1 = param[0]\n",
        "  x2 = param[1]\n",
        "  return x1*x1 + y*x2*x2 -x1*x2 -x1 - x2\n",
        "\n",
        "def gradient(param,y=1):\n",
        "  '''\n",
        "    evalute gradient on given points\n",
        "  '''\n",
        "  x1 = param[0]\n",
        "  x2 = param[1]\n",
        "  return (2*x1 - x2 - 1),(2*y*x2 - x1 - 1)\n",
        "\n",
        "def update(param,step,conver_grad,y=1):\n",
        "  '''\n",
        "    update paramters w.r.t gradients \n",
        "  '''\n",
        "  grad1, grad2 = gradient(param,y)\n",
        "  #print('grad x1 ',grad1,'grad x2 ',grad2)\n",
        "  param[0] = param[0]  - step * grad1\n",
        "  param[1] = param[1]  - step * grad2\n",
        "  \n",
        "  if grad1 < conver_grad and grad2 < conver_grad:\n",
        "      return True\n",
        "\n",
        "def mse (x): \n",
        "  '''\n",
        "    compute  MSE loss\n",
        "    '''\n",
        "  return (( x + 1)*(x + 1))**(0.5)\n"
      ],
      "metadata": {
        "id": "kIVQ6HR4i3fF"
      },
      "execution_count": 9,
      "outputs": []
    },
    {
      "cell_type": "code",
      "source": [
        "def optim(params,step=0.2,conver_grad=1e-2,iters=20,y=1):\n",
        "  '''\n",
        "    perform gradient descent and check if its is converging or not\n",
        "    '''\n",
        "  param = list(params)\n",
        "  func_val = []\n",
        "  func_val.append( evaluate( param ) )\n",
        "  conv_point = False\n",
        "\n",
        "  for i in range(1,iters+1):\n",
        "    if update(param,step,conver_grad,y) and not(conv_point):\n",
        "        conv_point =i\n",
        "    func_val.append( evaluate( param,y ) )\n",
        "\n",
        "\n",
        "\n",
        "  if conv_point:\n",
        "    print(f'For iteration - {iters}, step - {step}, convergences - {conver_grad},y - {y} algorithm converge after {int(conv_point)} iterations')\n",
        "  else:\n",
        "    print(f'For iteration - {iters}, step - {step}, convergences - {conver_grad},y - {y} algorithm does not converge with required iterations and converegnce value')\n",
        "  \n",
        "  if not(conv_point):\n",
        "     conv_point =  1e10\n",
        "  \n",
        "  return func_val,conv_point\n",
        "    \n",
        "def plot(liz,c=None):\n",
        "  if c is None:\n",
        "    ax = sns.lineplot(x=range(len(liz)),y=liz)\n",
        "    return ax\n",
        "  else:\n",
        "    ax = sns.lineplot(x=liz,y=c)\n",
        "    return ax"
      ],
      "metadata": {
        "id": "zMNYXsCNkSaI"
      },
      "execution_count": 21,
      "outputs": []
    },
    {
      "cell_type": "markdown",
      "source": [
        "#B"
      ],
      "metadata": {
        "id": "WXjwePhjCZbU"
      }
    },
    {
      "cell_type": "code",
      "source": [
        "def num_gen(a=-3,b=3):\n",
        "  '''\n",
        "    generate two number for evalution purpose \n",
        "  '''\n",
        "  temp = tuple((rnd.randint(a,b),rnd.randint(a,b)))\n",
        "  print(temp)\n",
        "  return temp\n",
        "\n",
        "\n",
        "param = num_gen()"
      ],
      "metadata": {
        "colab": {
          "base_uri": "https://localhost:8080/"
        },
        "id": "yWl_4CVAiCsk",
        "outputId": "3816260c-3f2e-424b-ef22-3cd3333944e5"
      },
      "execution_count": 11,
      "outputs": [
        {
          "output_type": "stream",
          "name": "stdout",
          "text": [
            "(-1, 3)\n"
          ]
        }
      ]
    },
    {
      "cell_type": "code",
      "source": [
        "#perform gradient descent \n",
        "liz,c= optim(param,step=0.1)"
      ],
      "metadata": {
        "colab": {
          "base_uri": "https://localhost:8080/"
        },
        "id": "ybe2EjHQrPuY",
        "outputId": "9ac68063-7e2f-49ec-c60f-d2cfd527d491"
      },
      "execution_count": 12,
      "outputs": [
        {
          "output_type": "stream",
          "name": "stdout",
          "text": [
            "For iteration - 20, step - 0.1, convergences - 0.01,y - 1 algorithm converge after 19 iterations\n"
          ]
        }
      ]
    },
    {
      "cell_type": "code",
      "source": [
        "#print value of function at various step of gradient decent \n",
        "liz"
      ],
      "metadata": {
        "colab": {
          "base_uri": "https://localhost:8080/"
        },
        "id": "L55K5aWjM17Q",
        "outputId": "10fc0a95-ab4f-41f7-9cce-03d83f626d06"
      },
      "execution_count": 13,
      "outputs": [
        {
          "output_type": "execute_result",
          "data": {
            "text/plain": [
              "[11,\n",
              " 4.879999999999999,\n",
              " 1.8811999999999998,\n",
              " 0.41178800000000004,\n",
              " -0.30822388000000034,\n",
              " -0.6610297011999998,\n",
              " -0.8339045535880003,\n",
              " -0.9186132312581201,\n",
              " -0.9601204833164787,\n",
              " -0.9804590368250748,\n",
              " -0.9904249280442864,\n",
              " -0.9953082147417003,\n",
              " -0.9977010252234331,\n",
              " -0.9988735023594824,\n",
              " -0.9994480161561462,\n",
              " -0.9997295279165116,\n",
              " -0.9998674686790907,\n",
              " -0.9999350596527543,\n",
              " -0.9999681792298498,\n",
              " -0.9999844078226264,\n",
              " -0.999992359833087]"
            ]
          },
          "metadata": {},
          "execution_count": 13
        }
      ]
    },
    {
      "cell_type": "markdown",
      "source": [
        "#C"
      ],
      "metadata": {
        "id": "1hog4JSzCeNk"
      }
    },
    {
      "cell_type": "code",
      "source": [
        "#ploting error vs iterations\n",
        "ax = plot(liz)\n",
        "ax.set(xlabel='iteration no. ', ylabel='error ', title ='iteration vs error')\n",
        "plt.show()"
      ],
      "metadata": {
        "colab": {
          "base_uri": "https://localhost:8080/",
          "height": 295
        },
        "id": "9FtWEGxmr6YC",
        "outputId": "d2aa16ab-d683-4869-9567-352ba95e4951"
      },
      "execution_count": 14,
      "outputs": [
        {
          "output_type": "display_data",
          "data": {
            "text/plain": [
              "<Figure size 432x288 with 1 Axes>"
            ],
            "image/png": "[encoded data removed]"
          },
          "metadata": {
            "needs_background": "light"
          }
        }
      ]
    },
    {
      "cell_type": "markdown",
      "source": [
        "#D"
      ],
      "metadata": {
        "id": "R4K4iF-JChDj"
      }
    },
    {
      "cell_type": "code",
      "source": [
        "# comparing different value of steps\n",
        "\n",
        "loops = 5\n",
        "legend_list = []\n",
        "\n",
        "for i in range(1,loops+1):\n",
        "  rands = round(rnd.uniform(0, 2),3)\n",
        "  liz,c = optim(param,rands)\n",
        "  legend_list.append(rands)\n",
        "  ax = plot(liz)\n",
        "\n",
        "plt.legend(labels = legend_list)\n",
        "ax.set_ylim(bottom=-1,top=100)\n",
        "ax.set_alpha(0.5)\n",
        "ax.set(xlabel='iteration no. ', ylabel='error ', title ='iteration vs error')\n",
        "plt.show()"
      ],
      "metadata": {
        "colab": {
          "base_uri": "https://localhost:8080/",
          "height": 382
        },
        "id": "y3Xz0qT_YlHq",
        "outputId": "2eba20b9-055d-41ce-f5c3-31805e739225"
      },
      "execution_count": 19,
      "outputs": [
        {
          "output_type": "stream",
          "name": "stdout",
          "text": [
            "For iteration - 20, step - 1.924, convergences - 0.01,y - 1 algorithm does not converge with required iterations and converegnce value\n",
            "For iteration - 20, step - 0.432, convergences - 0.01,y - 1 algorithm converge after 7 iterations\n",
            "For iteration - 20, step - 1.233, convergences - 0.01,y - 1 algorithm does not converge with required iterations and converegnce value\n",
            "For iteration - 20, step - 0.226, convergences - 0.01,y - 1 algorithm converge after 7 iterations\n",
            "For iteration - 20, step - 0.844, convergences - 0.01,y - 1 algorithm does not converge with required iterations and converegnce value\n"
          ]
        },
        {
          "output_type": "display_data",
          "data": {
            "text/plain": [
              "<Figure size 432x288 with 1 Axes>"
            ],
            "image/png": "[encoded data removed]"
          },
          "metadata": {
            "needs_background": "light"
          }
        }
      ]
    },
    {
      "cell_type": "code",
      "source": [
        "# comparing different value of steps\n",
        "\n",
        "loops = 5\n",
        "legend_list = []\n",
        "cove_point = []\n",
        "\n",
        "for i in range(1,loops+1):\n",
        "  rands =round(rnd.uniform(0, 1),3)\n",
        "  liz,c= optim(param,rands)\n",
        "  cove_point.append(c)\n",
        "  legend_list.append(rands)\n",
        "temp1 =[]\n",
        "temp2 = []\n",
        "for i,j in sorted(zip(legend_list,cove_point)):\n",
        "  temp1.append(i)\n",
        "  temp2.append(j)\n",
        "ax = plot(temp1,temp2)\n",
        "\n",
        "#plt.legend(labels = legend_list)\n",
        "ax.set_ylim(bottom=-1,top=100)\n",
        "ax.set_alpha(0.5)\n",
        "ax.set(xlabel='steps', ylabel='iteration to converge ', title ='steps vs iteration to converge')\n",
        "plt.show()"
      ],
      "metadata": {
        "colab": {
          "base_uri": "https://localhost:8080/",
          "height": 382
        },
        "id": "u30sj6cR5foz",
        "outputId": "2e58e594-f876-40ca-8680-5718c8529759"
      },
      "execution_count": 39,
      "outputs": [
        {
          "output_type": "stream",
          "name": "stdout",
          "text": [
            "For iteration - 20, step - 0.398, convergences - 0.01,y - 1 algorithm converge after 5 iterations\n",
            "For iteration - 20, step - 0.243, convergences - 0.01,y - 1 algorithm converge after 6 iterations\n",
            "For iteration - 20, step - 0.872, convergences - 0.01,y - 1 algorithm does not converge with required iterations and converegnce value\n",
            "For iteration - 20, step - 0.211, convergences - 0.01,y - 1 algorithm converge after 8 iterations\n",
            "For iteration - 20, step - 0.512, convergences - 0.01,y - 1 algorithm converge after 12 iterations\n"
          ]
        },
        {
          "output_type": "display_data",
          "data": {
            "text/plain": [
              "<Figure size 432x288 with 1 Axes>"
            ],
            "image/png": "[encoded data removed]"
          },
          "metadata": {
            "needs_background": "light"
          }
        }
      ]
    },
    {
      "cell_type": "markdown",
      "source": [
        "#E"
      ],
      "metadata": {
        "id": "p90iYAAslxFY"
      }
    },
    {
      "cell_type": "code",
      "source": [
        "# comparing different value of steps\n",
        "\n",
        "loops = 5\n",
        "legend_list = []\n",
        "cove_point = []\n",
        "\n",
        "for i in range(1,loops+1):\n",
        "  rands =round(rnd.uniform(0, 1),3)\n",
        "  liz,c= optim(param,y=rands)\n",
        "  cove_point.append(c)\n",
        "  legend_list.append(rands)\n",
        "temp1 =[]\n",
        "temp2 = []\n",
        "for i,j in sorted(zip(legend_list,cove_point)):\n",
        "  temp1.append(i)\n",
        "  temp2.append(j)\n",
        "ax = plot(temp1,temp2)\n",
        "\n",
        "#plt.legend(labels = legend_list)\n",
        "ax.set_ylim(bottom=-1,top=100)\n",
        "ax.set_alpha(0.5)\n",
        "ax.set(xlabel='value of gamma', ylabel='iteration to converg  ', title ='steps vs iteration to converge')\n",
        "plt.show()"
      ],
      "metadata": {
        "colab": {
          "base_uri": "https://localhost:8080/",
          "height": 382
        },
        "id": "wcDa3qtpZcs1",
        "outputId": "8ab1519b-0f11-4f49-8ffa-b6c8cb7f863d"
      },
      "execution_count": 41,
      "outputs": [
        {
          "output_type": "stream",
          "name": "stdout",
          "text": [
            "For iteration - 20, step - 0.2, convergences - 0.01,y - 0.063 algorithm converge after 2 iterations\n",
            "For iteration - 20, step - 0.2, convergences - 0.01,y - 0.228 algorithm converge after 3 iterations\n",
            "For iteration - 20, step - 0.2, convergences - 0.01,y - 0.701 algorithm converge after 6 iterations\n",
            "For iteration - 20, step - 0.2, convergences - 0.01,y - 0.631 algorithm converge after 6 iterations\n",
            "For iteration - 20, step - 0.2, convergences - 0.01,y - 0.105 algorithm converge after 2 iterations\n"
          ]
        },
        {
          "output_type": "display_data",
          "data": {
            "text/plain": [
              "<Figure size 432x288 with 1 Axes>"
            ],
            "image/png": "[encoded data removed]"
          },
          "metadata": {
            "needs_background": "light"
          }
        }
      ]
    },
    {
      "cell_type": "markdown",
      "source": [
        "#F"
      ],
      "metadata": {
        "id": "cSPFh6YMlz5U"
      }
    },
    {
      "cell_type": "code",
      "source": [
        "# Analysis y=-1 case\n",
        "liz,_ = optim(param,y=-1)\n",
        "\n",
        "ax = plot(liz)\n",
        "plt.legend(labels = legend_list)\n",
        "ax.set_alpha(0.5)\n",
        "ax.set(xlabel='iteration no. ', ylabel='value of function ', title ='iteration vs value of function')\n",
        "plt.show()"
      ],
      "metadata": {
        "colab": {
          "base_uri": "https://localhost:8080/",
          "height": 312
        },
        "id": "iCpRxfPljY8v",
        "outputId": "1c0b2eac-2377-417f-8bfc-b1e3d5d9bad3"
      },
      "execution_count": 45,
      "outputs": [
        {
          "output_type": "stream",
          "name": "stdout",
          "text": [
            "For iteration - 20, step - 0.2, convergences - 0.01,y - -1 algorithm converge after 1 iterations\n"
          ]
        },
        {
          "output_type": "display_data",
          "data": {
            "text/plain": [
              "<Figure size 432x288 with 1 Axes>"
            ],
            "image/png": "[encoded data removed]"
          },
          "metadata": {
            "needs_background": "light"
          }
        }
      ]
    },
    {
      "cell_type": "markdown",
      "source": [
        "we define D = fxx(a, b) fyy (a, b) – [fxy(a, b)]2 \n",
        "and D < 0, f has a saddle point (1, 1) which is non convex funtion \n"
      ],
      "metadata": {
        "id": "YL5ZxTMplcOG"
      }
    }
  ]
}